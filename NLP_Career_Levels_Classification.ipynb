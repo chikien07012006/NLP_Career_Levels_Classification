{
  "nbformat": 4,
  "nbformat_minor": 0,
  "metadata": {
    "colab": {
      "provenance": [],
      "gpuType": "T4"
    },
    "kernelspec": {
      "name": "python3",
      "display_name": "Python 3"
    },
    "language_info": {
      "name": "python"
    },
    "accelerator": "GPU"
  },
  "cells": [
    {
      "cell_type": "code",
      "execution_count": null,
      "metadata": {
        "id": "hptRntyoY7bx"
      },
      "outputs": [],
      "source": [
        "import pandas as pd\n",
        "import matplotlib.pyplot as plt\n",
        "import seaborn as sn\n",
        "from sklearn.model_selection import train_test_split, GridSearchCV\n",
        "from sklearn.feature_extraction.text import TfidfVectorizer\n",
        "import re\n",
        "from sklearn.preprocessing import OneHotEncoder\n",
        "from sklearn.compose import ColumnTransformer\n",
        "from sklearn.pipeline import Pipeline\n",
        "from sklearn.svm import SVC\n",
        "from sklearn.metrics import classification_report\n",
        "from sklearn.feature_selection import SelectKBest, chi2\n",
        "from imblearn.over_sampling import RandomOverSampler, SMOTEN"
      ]
    },
    {
      "cell_type": "code",
      "source": [
        "!pip install odfpy"
      ],
      "metadata": {
        "colab": {
          "base_uri": "https://localhost:8080/"
        },
        "id": "trAYBxP3bvwg",
        "outputId": "163549ff-5e23-4fc2-c8e2-744b82648abd"
      },
      "execution_count": null,
      "outputs": [
        {
          "output_type": "stream",
          "name": "stdout",
          "text": [
            "Requirement already satisfied: odfpy in /usr/local/lib/python3.10/dist-packages (1.4.1)\n",
            "Requirement already satisfied: defusedxml in /usr/local/lib/python3.10/dist-packages (from odfpy) (0.7.1)\n"
          ]
        }
      ]
    },
    {
      "cell_type": "code",
      "source": [
        "def my_func(loc):\n",
        "  result = re.findall(\"\\ [A-Z]{2}$\", loc)\n",
        "  if len(result) == 1:\n",
        "    return result[0][1:]\n",
        "  else:\n",
        "    return loc"
      ],
      "metadata": {
        "id": "1C3c5j32EoJ8"
      },
      "execution_count": null,
      "outputs": []
    },
    {
      "cell_type": "code",
      "source": [
        "data = pd.read_excel('final_project.ods', engine = 'odf', dtype=str)\n",
        "data[\"location\"] = data[\"location\"].apply(my_func)\n",
        "\n",
        "print(len(data[\"location\"].unique()))"
      ],
      "metadata": {
        "colab": {
          "base_uri": "https://localhost:8080/"
        },
        "id": "u2tkeY45a56Y",
        "outputId": "1852faf7-102b-49a4-b401-a11eb69d0e5a"
      },
      "execution_count": null,
      "outputs": [
        {
          "output_type": "stream",
          "name": "stdout",
          "text": [
            "97\n"
          ]
        }
      ]
    },
    {
      "cell_type": "code",
      "source": [
        "for i in range(8073):\n",
        "  if data['description'].isna()[i]:\n",
        "    data['description'][i] = \"\""
      ],
      "metadata": {
        "colab": {
          "base_uri": "https://localhost:8080/"
        },
        "id": "pMI6eWrNgpBO",
        "outputId": "330742d6-c0d8-4624-e77d-ed1fb0494291"
      },
      "execution_count": null,
      "outputs": [
        {
          "output_type": "stream",
          "name": "stderr",
          "text": [
            "<ipython-input-20-e65e31de68ea>:3: FutureWarning: ChainedAssignmentError: behaviour will change in pandas 3.0!\n",
            "You are setting values through chained assignment. Currently this works in certain cases, but when using Copy-on-Write (which will become the default behaviour in pandas 3.0) this will never work to update the original DataFrame or Series, because the intermediate object on which we are setting values will behave as a copy.\n",
            "A typical example is when you are setting values in a column of a DataFrame, like:\n",
            "\n",
            "df[\"col\"][row_indexer] = value\n",
            "\n",
            "Use `df.loc[row_indexer, \"col\"] = values` instead, to perform the assignment in a single step and ensure this keeps updating the original `df`.\n",
            "\n",
            "See the caveats in the documentation: https://pandas.pydata.org/pandas-docs/stable/user_guide/indexing.html#returning-a-view-versus-a-copy\n",
            "\n",
            "  data['description'][i] = \"\"\n"
          ]
        }
      ]
    },
    {
      "cell_type": "code",
      "source": [
        "print(data[\"career_level\"].value_counts())\n",
        "data.isna().sum()\n",
        "print(data)\n",
        "print(len(data[\"industry\"].unique()))"
      ],
      "metadata": {
        "colab": {
          "base_uri": "https://localhost:8080/"
        },
        "id": "BxqutO6_b73P",
        "outputId": "4d7109a0-5b80-4cd2-c59b-ce818dfe99ba"
      },
      "execution_count": null,
      "outputs": [
        {
          "output_type": "stream",
          "name": "stdout",
          "text": [
            "career_level\n",
            "senior_specialist_or_project_manager      4338\n",
            "manager_team_leader                       2672\n",
            "bereichsleiter                             960\n",
            "director_business_unit_leader               70\n",
            "specialist                                  30\n",
            "managing_director_small_medium_company       4\n",
            "Name: count, dtype: int64\n",
            "                                                  title        location  \\\n",
            "0                 Technical Professional Lead - Process              TX   \n",
            "1                       Cnslt - Systems Eng- Midrange 1              WA   \n",
            "2         SharePoint Developers and Solution Architects              TX   \n",
            "3     Business Information Services - Strategic Acco...  North Carolina   \n",
            "4          Strategic Development Director (procurement)              TX   \n",
            "...                                                 ...             ...   \n",
            "8069                                     Sales Engineer              MA   \n",
            "8070                      Director of Sales, ClosetMaid              GA   \n",
            "8071       PROPERTY MANAGEMENT: Regional Vice President              CA   \n",
            "8072                       Technical Manager SAP Senior        New York   \n",
            "8073  Director - Logistics/Fleet Operations - East R...              NJ   \n",
            "\n",
            "                                            description  \\\n",
            "0     Responsible for the study, design, and specifi...   \n",
            "1     Participates in design, development and implem...   \n",
            "2     We are currently in need of Developers who can...   \n",
            "3     Experian is seeking an experienced Account Exe...   \n",
            "4     Â Want to join a world-class global procuremen...   \n",
            "...                                                 ...   \n",
            "8069  You are the primary technical resource for the...   \n",
            "8070  Act as the primary contact for Home Depot deci...   \n",
            "8071  Responsible for the management of office, mult...   \n",
            "8072  Viseo Business Solution Practice invested in S...   \n",
            "8073  This position establishes, maintains, and exec...   \n",
            "\n",
            "                                       function  \\\n",
            "0                      production_manufacturing   \n",
            "1     information_technology_telecommunications   \n",
            "2                                    consulting   \n",
            "3                                         sales   \n",
            "4               procurement_materials_logistics   \n",
            "...                                         ...   \n",
            "8069                                      sales   \n",
            "8070                                      sales   \n",
            "8071                         finance_accounting   \n",
            "8072                                 consulting   \n",
            "8073            procurement_materials_logistics   \n",
            "\n",
            "                                             industry  \\\n",
            "0     Machinery and Industrial Facilities Engineering   \n",
            "1                                  Financial Services   \n",
            "2                                       IT Consulting   \n",
            "3            Security, Risk, Restructuring Consulting   \n",
            "4                              Information Technology   \n",
            "...                                               ...   \n",
            "8069                                         Hardware   \n",
            "8070                                        Furniture   \n",
            "8071                 Real Estate Investment Companies   \n",
            "8072                                    IT Consulting   \n",
            "8073                                        Logistics   \n",
            "\n",
            "                              career_level  \n",
            "0     senior_specialist_or_project_manager  \n",
            "1     senior_specialist_or_project_manager  \n",
            "2     senior_specialist_or_project_manager  \n",
            "3     senior_specialist_or_project_manager  \n",
            "4                           bereichsleiter  \n",
            "...                                    ...  \n",
            "8069  senior_specialist_or_project_manager  \n",
            "8070  senior_specialist_or_project_manager  \n",
            "8071                   manager_team_leader  \n",
            "8072  senior_specialist_or_project_manager  \n",
            "8073                        bereichsleiter  \n",
            "\n",
            "[8074 rows x 6 columns]\n",
            "352\n"
          ]
        }
      ]
    },
    {
      "cell_type": "code",
      "source": [
        "sn.countplot(data[\"career_level\"])\n",
        "\n",
        "plt.tight_layout()\n",
        "plt.grid()\n",
        "plt.show()"
      ],
      "metadata": {
        "colab": {
          "base_uri": "https://localhost:8080/",
          "height": 487
        },
        "id": "xuqOcnk6cp1w",
        "outputId": "e4a981e1-f16e-43cd-8ef1-6ebb940a9ba6"
      },
      "execution_count": null,
      "outputs": [
        {
          "output_type": "display_data",
          "data": {
            "text/plain": [
              "<Figure size 640x480 with 1 Axes>"
            ],
            "image/png": "[encoded data removed]"
          },
          "metadata": {}
        }
      ]
    },
    {
      "cell_type": "markdown",
      "source": [
        "**Để data được cân bằng hơn, chúng ta dùng oversampling**\n",
        "\n",
        "**Lưu ý chỉ xài oversampling sau khi split data và chỉ over trong bộ train vì:**\n",
        "\n",
        "**- cùng 1 điểm dữ liệu 0 thể cùng xuất hiện trong cả bộ train và bộ test (giống như việc đi thi mà gặp lại y nguyên bộ đề đã luyện tập)**"
      ],
      "metadata": {
        "id": "UM3Bo8jbqXZE"
      }
    },
    {
      "cell_type": "code",
      "source": [
        "x = data.drop(\"career_level\", axis = 1)\n",
        "y = data[\"career_level\"]\n",
        "\n",
        "x_train, x_test, y_train, y_test = train_test_split(x, y, test_size=0.2, random_state=42, stratify=y)\n",
        "\n",
        "print(y_train.value_counts())\n",
        "print('----------------------------------------------------------------------------')\n",
        "ros = SMOTEN(random_state=42, k_neighbors=2, sampling_strategy={\"director_business_unit_leader\": 500, \"specialist\": 500, \"managing_director_small_medium_company\": 500}) # oversampling bẳng phương pháp tổng hợp điểm\n",
        "x_train, y_train = ros.fit_resample(x_train, y_train)\n",
        "print(y_train.value_counts())\n",
        "\n",
        "preprocessor = ColumnTransformer(\n",
        "    transformers=[\n",
        "        (\"title\", TfidfVectorizer(stop_words=[\"English\"], ngram_range=(1,2), min_df=0.01, max_df=0.95), \"title\"),\n",
        "        (\"location\", OneHotEncoder(handle_unknown=\"ignore\"), [\"location\"]),\n",
        "        (\"description\", TfidfVectorizer(stop_words=[\"English\"], ngram_range=(1,2), min_df=0.01, max_df=0.95), \"description\"),\n",
        "        (\"function\", OneHotEncoder(), [\"function\"]),\n",
        "        (\"industry\", TfidfVectorizer(stop_words=[\"English\"], ngram_range=(1,2), min_df=0.01, max_df=0.95), \"industry\")\n",
        "    ])"
      ],
      "metadata": {
        "colab": {
          "base_uri": "https://localhost:8080/"
        },
        "id": "FJMgqxELePR_",
        "outputId": "ba13c6eb-72b7-4093-ab96-2b43d74233a4"
      },
      "execution_count": null,
      "outputs": [
        {
          "output_type": "stream",
          "name": "stdout",
          "text": [
            "career_level\n",
            "senior_specialist_or_project_manager      3470\n",
            "manager_team_leader                       2138\n",
            "bereichsleiter                             768\n",
            "director_business_unit_leader               56\n",
            "specialist                                  24\n",
            "managing_director_small_medium_company       3\n",
            "Name: count, dtype: int64\n",
            "----------------------------------------------------------------------------\n"
          ]
        },
        {
          "output_type": "stream",
          "name": "stderr",
          "text": [
            "/usr/local/lib/python3.10/dist-packages/sklearn/base.py:474: FutureWarning: `BaseEstimator._validate_data` is deprecated in 1.6 and will be removed in 1.7. Use `sklearn.utils.validation.validate_data` instead. This function becomes public and is part of the scikit-learn developer API.\n",
            "  warnings.warn(\n",
            "/usr/local/lib/python3.10/dist-packages/sklearn/utils/_tags.py:354: FutureWarning: The SMOTEN or classes from which it inherits use `_get_tags` and `_more_tags`. Please define the `__sklearn_tags__` method, or inherit from `sklearn.base.BaseEstimator` and/or other appropriate mixins such as `sklearn.base.TransformerMixin`, `sklearn.base.ClassifierMixin`, `sklearn.base.RegressorMixin`, and `sklearn.base.OutlierMixin`. From scikit-learn 1.7, not defining `__sklearn_tags__` will raise an error.\n",
            "  warnings.warn(\n",
            "/usr/local/lib/python3.10/dist-packages/sklearn/base.py:474: FutureWarning: `BaseEstimator._validate_data` is deprecated in 1.6 and will be removed in 1.7. Use `sklearn.utils.validation.validate_data` instead. This function becomes public and is part of the scikit-learn developer API.\n",
            "  warnings.warn(\n",
            "/usr/local/lib/python3.10/dist-packages/sklearn/utils/_tags.py:354: FutureWarning: The ValueDifferenceMetric or classes from which it inherits use `_get_tags` and `_more_tags`. Please define the `__sklearn_tags__` method, or inherit from `sklearn.base.BaseEstimator` and/or other appropriate mixins such as `sklearn.base.TransformerMixin`, `sklearn.base.ClassifierMixin`, `sklearn.base.RegressorMixin`, and `sklearn.base.OutlierMixin`. From scikit-learn 1.7, not defining `__sklearn_tags__` will raise an error.\n",
            "  warnings.warn(\n",
            "/usr/local/lib/python3.10/dist-packages/sklearn/utils/_tags.py:354: FutureWarning: The ValueDifferenceMetric or classes from which it inherits use `_get_tags` and `_more_tags`. Please define the `__sklearn_tags__` method, or inherit from `sklearn.base.BaseEstimator` and/or other appropriate mixins such as `sklearn.base.TransformerMixin`, `sklearn.base.ClassifierMixin`, `sklearn.base.RegressorMixin`, and `sklearn.base.OutlierMixin`. From scikit-learn 1.7, not defining `__sklearn_tags__` will raise an error.\n",
            "  warnings.warn(\n",
            "/usr/local/lib/python3.10/dist-packages/sklearn/base.py:474: FutureWarning: `BaseEstimator._validate_data` is deprecated in 1.6 and will be removed in 1.7. Use `sklearn.utils.validation.validate_data` instead. This function becomes public and is part of the scikit-learn developer API.\n",
            "  warnings.warn(\n",
            "/usr/local/lib/python3.10/dist-packages/sklearn/utils/_tags.py:354: FutureWarning: The ValueDifferenceMetric or classes from which it inherits use `_get_tags` and `_more_tags`. Please define the `__sklearn_tags__` method, or inherit from `sklearn.base.BaseEstimator` and/or other appropriate mixins such as `sklearn.base.TransformerMixin`, `sklearn.base.ClassifierMixin`, `sklearn.base.RegressorMixin`, and `sklearn.base.OutlierMixin`. From scikit-learn 1.7, not defining `__sklearn_tags__` will raise an error.\n",
            "  warnings.warn(\n",
            "/usr/local/lib/python3.10/dist-packages/sklearn/base.py:474: FutureWarning: `BaseEstimator._validate_data` is deprecated in 1.6 and will be removed in 1.7. Use `sklearn.utils.validation.validate_data` instead. This function becomes public and is part of the scikit-learn developer API.\n",
            "  warnings.warn(\n"
          ]
        },
        {
          "output_type": "stream",
          "name": "stdout",
          "text": [
            "career_level\n",
            "senior_specialist_or_project_manager      3470\n",
            "manager_team_leader                       2138\n",
            "bereichsleiter                             768\n",
            "specialist                                 500\n",
            "director_business_unit_leader              500\n",
            "managing_director_small_medium_company     500\n",
            "Name: count, dtype: int64\n"
          ]
        },
        {
          "output_type": "stream",
          "name": "stderr",
          "text": [
            "/usr/local/lib/python3.10/dist-packages/sklearn/utils/_tags.py:354: FutureWarning: The ValueDifferenceMetric or classes from which it inherits use `_get_tags` and `_more_tags`. Please define the `__sklearn_tags__` method, or inherit from `sklearn.base.BaseEstimator` and/or other appropriate mixins such as `sklearn.base.TransformerMixin`, `sklearn.base.ClassifierMixin`, `sklearn.base.RegressorMixin`, and `sklearn.base.OutlierMixin`. From scikit-learn 1.7, not defining `__sklearn_tags__` will raise an error.\n",
            "  warnings.warn(\n",
            "/usr/local/lib/python3.10/dist-packages/sklearn/base.py:474: FutureWarning: `BaseEstimator._validate_data` is deprecated in 1.6 and will be removed in 1.7. Use `sklearn.utils.validation.validate_data` instead. This function becomes public and is part of the scikit-learn developer API.\n",
            "  warnings.warn(\n"
          ]
        }
      ]
    },
    {
      "cell_type": "code",
      "source": [
        "cls = Pipeline(steps=[\n",
        "    ('preprocessor', preprocessor),\n",
        "    (\"select\", SelectKBest(chi2, k=500)),\n",
        "    ('classifier', SVC())\n",
        "    ])"
      ],
      "metadata": {
        "id": "OTh0BQ2hmZvz"
      },
      "execution_count": null,
      "outputs": []
    },
    {
      "cell_type": "markdown",
      "source": [
        "---\n",
        "Một trong những cách để tăng performance của model là gộp những class thiểu số lại với nhau thành 1 label lớn, sau đó xây dựng model khác để phân loại những class đã gộp\n",
        "\n",
        "Lưu ý:\n",
        "\n",
        "Chỉ gộp những class có thứ bậc liên tiếp nhau ( phân hạng cao hoặc thấp như nhau ) để model k bị học sai ( nếu class bậc bé gộp class bậc lớn thì gây rối loạn cho mô hình, những class ở giữa không biết học như nào )\n",
        "\n",
        "---\n",
        "\n",
        "\n"
      ],
      "metadata": {
        "id": "7Z9yBL1Zu4wc"
      }
    },
    {
      "cell_type": "markdown",
      "source": [
        "---\n",
        "một cách nữa để tăng perform của model là giữ lại 1 số lượng feature qtrọng nhất cho model\n",
        "\n",
        "VD trong model này có hơn 6000 features, dùng ***SelectKBest*** để chọn lại tầm 1000 features qtrọng nhất\n"
      ],
      "metadata": {
        "id": "7yqXG2ijybWr"
      }
    },
    {
      "cell_type": "code",
      "source": [
        "parameters = {\n",
        "    \"classifier__kernel\": [\"linear\", \"sigmoid\"],\n",
        "    \"classifier__gamma\": [\"scale\", \"auto\"],\n",
        "    \"classifier__degree\": [2,3,4]\n",
        "}"
      ],
      "metadata": {
        "id": "3ue77Sa7h55e"
      },
      "execution_count": null,
      "outputs": []
    },
    {
      "cell_type": "code",
      "source": [
        "cls.fit(x_train, y_train)\n",
        "y_pred = cls.predict(x_test)\n",
        "print(classification_report(y_test, y_pred))"
      ],
      "metadata": {
        "colab": {
          "base_uri": "https://localhost:8080/"
        },
        "id": "5gvlv-J4no6e",
        "outputId": "4087a503-ab2b-4863-9683-ddbd6d351e8e"
      },
      "execution_count": null,
      "outputs": [
        {
          "output_type": "stream",
          "name": "stderr",
          "text": [
            "/usr/local/lib/python3.10/dist-packages/sklearn/feature_extraction/text.py:402: UserWarning: Your stop_words may be inconsistent with your preprocessing. Tokenizing the stop words generated tokens ['english'] not in stop_words.\n",
            "  warnings.warn(\n",
            "/usr/local/lib/python3.10/dist-packages/sklearn/feature_extraction/text.py:402: UserWarning: Your stop_words may be inconsistent with your preprocessing. Tokenizing the stop words generated tokens ['english'] not in stop_words.\n",
            "  warnings.warn(\n",
            "/usr/local/lib/python3.10/dist-packages/sklearn/feature_extraction/text.py:402: UserWarning: Your stop_words may be inconsistent with your preprocessing. Tokenizing the stop words generated tokens ['english'] not in stop_words.\n",
            "  warnings.warn(\n"
          ]
        },
        {
          "output_type": "stream",
          "name": "stdout",
          "text": [
            "                                        precision    recall  f1-score   support\n",
            "\n",
            "                        bereichsleiter       0.60      0.27      0.37       192\n",
            "         director_business_unit_leader       0.57      0.57      0.57        14\n",
            "                   manager_team_leader       0.65      0.57      0.61       534\n",
            "managing_director_small_medium_company       0.00      0.00      0.00         1\n",
            "  senior_specialist_or_project_manager       0.75      0.90      0.82       868\n",
            "                            specialist       1.00      0.17      0.29         6\n",
            "\n",
            "                              accuracy                           0.71      1615\n",
            "                             macro avg       0.60      0.41      0.44      1615\n",
            "                          weighted avg       0.70      0.71      0.69      1615\n",
            "\n"
          ]
        },
        {
          "output_type": "stream",
          "name": "stderr",
          "text": [
            "/usr/local/lib/python3.10/dist-packages/sklearn/metrics/_classification.py:1565: UndefinedMetricWarning: Precision is ill-defined and being set to 0.0 in labels with no predicted samples. Use `zero_division` parameter to control this behavior.\n",
            "  _warn_prf(average, modifier, f\"{metric.capitalize()} is\", len(result))\n",
            "/usr/local/lib/python3.10/dist-packages/sklearn/metrics/_classification.py:1565: UndefinedMetricWarning: Precision is ill-defined and being set to 0.0 in labels with no predicted samples. Use `zero_division` parameter to control this behavior.\n",
            "  _warn_prf(average, modifier, f\"{metric.capitalize()} is\", len(result))\n",
            "/usr/local/lib/python3.10/dist-packages/sklearn/metrics/_classification.py:1565: UndefinedMetricWarning: Precision is ill-defined and being set to 0.0 in labels with no predicted samples. Use `zero_division` parameter to control this behavior.\n",
            "  _warn_prf(average, modifier, f\"{metric.capitalize()} is\", len(result))\n"
          ]
        }
      ]
    }
  ]
}